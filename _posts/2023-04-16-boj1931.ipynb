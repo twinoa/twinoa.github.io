{
 "cells": [
  {
   "cell_type": "markdown",
   "id": "bede582e",
   "metadata": {},
   "source": [
    "## 1931번 : 회의실 배정\n",
    "### 문제 링크\n",
    "<https://www.acmicpc.net/problem/1931>\n",
    "\n",
    "### 문제 설명\n",
    "한 개의 회의실이 있는데 이를 사용하고자 하는 N개의 회의에 대하여 회의실 사용표를 만들려고 한다. 각 회의 I에 대해 시작시간과 끝나는 시간이 주어져 있고, 각 회의가 겹치지 않게 하면서 회의실을 사용할 수 있는 회의의 최대 개수를 찾아보자. 단, 회의는 한번 시작하면 중간에 중단될 수 없으며 한 회의가 끝나는 것과 동시에 다음 회의가 시작될 수 있다. 회의의 시작시간과 끝나는 시간이 같을 수도 있다. 이 경우에는 시작하자마자 끝나는 것으로 생각하면 된다.\n",
    "\n",
    "### 입력\n",
    "첫째 줄에 회의의 수 N(1 ≤ N ≤ 100,000)이 주어진다. 둘째 줄부터 N+1 줄까지 각 회의의 정보가 주어지는데 이것은 공백을 사이에 두고 회의의 시작시간과 끝나는 시간이 주어진다. 시작 시간과 끝나는 시간은 231-1보다 작거나 같은 자연수 또는 0이다.\n",
    "\n",
    "### 출력\n",
    "첫째 줄에 최대 사용할 수 있는 회의의 최대 개수를 출력한다."
   ]
  },
  {
   "cell_type": "code",
   "execution_count": null,
   "id": "122162cd",
   "metadata": {},
   "outputs": [],
   "source": [
    "# 1번째 시도 : 시간 초과\n",
    "from operator import itemgetter\n",
    "\n",
    "n = int(input())\n",
    "arr = []\n",
    "\n",
    "for i in range(n) : arr.append(list(map(int, input().split())))\n",
    "arr = sorted(arr, key=itemgetter(0, 1))\n",
    "temp_arr = []\n",
    "temp_arr.append(sorted(arr, key=itemgetter(1))[0])\n",
    "\n",
    "while True : \n",
    "    if len([i for i in arr if i[0] >= temp_arr[-1][1]]) == 0 : break\n",
    "    temp_arr.append(sorted([i for i in arr if i[0] >= temp_arr[-1][1]], key = itemgetter(1))[0])\n",
    "\n",
    "print(len(temp_arr))"
   ]
  },
  {
   "cell_type": "code",
   "execution_count": null,
   "id": "d3b4c38c",
   "metadata": {},
   "outputs": [],
   "source": [
    "# 2번째 시도 ㅣ 시간 초과\n",
    "from operator import itemgetter\n",
    "\n",
    "n = int(input())\n",
    "arr = []\n",
    "\n",
    "for i in range(n) : arr.append(list(map(int, input().split())))\n",
    "arr = sorted(arr, key=itemgetter(0, 1))\n",
    "temp_arr = []\n",
    "temp_arr.append(sorted(arr, key=itemgetter(1))[0])\n",
    "del arr[0]\n",
    "\n",
    "while True : \n",
    "    narr = [i for i in arr if i[0] >= temp_arr[-1][1]]\n",
    "    if len(narr) == 0 : break\n",
    "    temp_arr.append(sorted(narr, key = itemgetter(1))[0])\n",
    "    del arr[:arr.index(temp_arr[-1]) + 1]\n",
    "   \n",
    "print(len(temp_arr))"
   ]
  },
  {
   "cell_type": "code",
   "execution_count": null,
   "id": "625669d8",
   "metadata": {
    "scrolled": true
   },
   "outputs": [],
   "source": [
    "# 2번째 시도\n",
    "from operator import itemgetter\n",
    "\n",
    "n = int(input())\n",
    "arr = []\n",
    "\n",
    "for i in range(n) : arr.append(list(map(int, input().split())))\n",
    "arr = sorted(arr, key=itemgetter(0, 1))\n",
    "temp_arr = []\n",
    "temp_arr.append(sorted(arr, key=itemgetter(1))[0])\n",
    "del arr[0]\n",
    "\n",
    "while True :\n",
    "    narr = sorted([i for i in arr if i[0] >= temp_arr[-1][1]], key = itemgetter(1))\n",
    "    if len(narr) == 0 : break\n",
    "    temp_arr.append(narr[0])\n",
    "    del arr[:arr.index(temp_arr[-1]) + 1]\n",
    "\n",
    "print(len(temp_arr))"
   ]
  },
  {
   "cell_type": "code",
   "execution_count": null,
   "id": "0e63d95a",
   "metadata": {},
   "outputs": [],
   "source": [
    "# 3번째 시도\n",
    "from operator import itemgetter\n",
    "import sys\n",
    "\n",
    "n = int(sys.stdin.readline())\n",
    "arr = []\n",
    "\n",
    "for i in range(n) : arr.append(list(map(int, sys.stdin.readline().split())))\n",
    "arr = sorted(arr, key=itemgetter(0, 1))\n",
    "temp_arr = []\n",
    "temp_arr.append(sorted(arr, key=itemgetter(1))[0])\n",
    "del arr[0]\n",
    "\n",
    "while True :\n",
    "    narr = sorted([i for i in arr if i[0] >= temp_arr[-1][1]], key = itemgetter(1))\n",
    "    if len(narr) == 0 : break\n",
    "    temp_arr.append(narr[0])\n",
    "    del arr[:arr.index(temp_arr[-1]) + 1]\n",
    "\n",
    "print(len(temp_arr))"
   ]
  },
  {
   "cell_type": "code",
   "execution_count": null,
   "id": "fd19e933",
   "metadata": {},
   "outputs": [],
   "source": [
    "# 4번째 시도인데 남의 코드.. 내일 분석하자\n",
    "# https://www.acmicpc.net/board/view/110744\n",
    "\n",
    "import sys\n",
    "\n",
    "T = int(sys.stdin.readline())\n",
    "sched = list()\n",
    "\n",
    "for i in range(T):\n",
    "    S, E = map(int, sys.stdin.readline().split())\n",
    "    sched.append((S, E))\n",
    "\n",
    "sched = sorted(sched, key=lambda x: (-x[0], -x[1]))\n",
    "\n",
    "count = 0\n",
    "for i in sched:\n",
    "    if count == 0 or i[1] <= startTime:\n",
    "        count += 1\n",
    "        startTime = i[0]\n",
    "\n",
    "print(count)"
   ]
  }
 ],
 "metadata": {
  "kernelspec": {
   "display_name": "Python 3",
   "language": "python",
   "name": "python3"
  },
  "language_info": {
   "codemirror_mode": {
    "name": "ipython",
    "version": 3
   },
   "file_extension": ".py",
   "mimetype": "text/x-python",
   "name": "python",
   "nbconvert_exporter": "python",
   "pygments_lexer": "ipython3",
   "version": "3.8.8"
  }
 },
 "nbformat": 4,
 "nbformat_minor": 5
}
